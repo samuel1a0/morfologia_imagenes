{
 "cells": [
  {
   "cell_type": "code",
   "execution_count": 42,
   "metadata": {
    "collapsed": true
   },
   "outputs": [],
   "source": [
    "import numpy as np\n",
    "import cv2\n",
    "import matplotlib.pyplot as plt\n",
    "from matplotlib import cm"
   ]
  },
  {
   "cell_type": "code",
   "execution_count": 79,
   "metadata": {
    "collapsed": false
   },
   "outputs": [],
   "source": [
    "def r_indices(shape):\n",
    "    indices = []\n",
    "    offset = shape[1]//2\n",
    "    for i in range(shape[0]//2):\n",
    "        idx = np.array( [ x for x in range(i+1) ] ) +(offset-i)\n",
    "        indices.append(idx)\n",
    "    print(indices)\n",
    "        \n",
    "def cubo(img, shape=(3,3)): \n",
    "    return img.flatten()\n",
    "\n",
    "def c_indices(shape=3, val=1):\n",
    "    valores = np.array( [(x*2)+1 for x in range( shape ) if (x*2)+1<shape ] )\n",
    "#     print(valores)\n",
    "    if shape%2 == 0:\n",
    "        valores = (valores[1:])-1\n",
    "    if val not in valores:\n",
    "        idx = np.abs(valores-val).argmin()\n",
    "        val = valores[ idx ]\n",
    "    offset = (shape-val)//2\n",
    "#     print(val, offset)\n",
    "    indices = np.array( range( val ) )+offset\n",
    "    return indices\n",
    "    \n",
    "    \n",
    "# def cruz(shape=(3, 3), ancho=1):\n",
    "def cruz(valores, ancho=1):\n",
    "#     alto = ancho\n",
    "#     elem = np.zeros(shape)\n",
    "        ind_i = c_indices(valores.shape[0], ancho)\n",
    "        ind_j = c_indices(valores.shape[1], ancho)\n",
    "        \n",
    "        elem_finales = []\n",
    "        elem_finales.extend( valores[ind_i,:].flatten())\n",
    "        elem_finales.extend(valores[:,ind_j].flatten())\n",
    "        return np.array(elem_finales)\n",
    "#     ind_i = c_indices(valores.shape[0], ancho)\n",
    "#     ind_j = c_indices(valores.shape[1], ancho)\n",
    "\n",
    "#     elem[ind_i,:] = 1\n",
    "#     elem[:,ind_j] = 1\n",
    "\n",
    "#     return elem\n",
    "\n",
    "def rombo(img):\n",
    "    elem = np.zeros(img.shape)\n",
    "    j = shape[0]//2\n",
    "    print(j)\n",
    "    for i in range(shape[0]//2):\n",
    "        elem[i, j-i:j+i] = 1\n",
    "        elem[-i, j-i:j+i] = 1\n",
    "    return elem\n",
    "\n",
    "def barra(img, ancho=1, orientation=\"h\"):\n",
    "    elem = np.zeros(img.shape)\n",
    "    if orientation==\"h\":\n",
    "        i = shape[0]//2\n",
    "        \n",
    "        elem[i:(i+ancho), :] = 1\n",
    "        return elem\n",
    "    i = img.shape[1]//2\n",
    "    elem[:, i:i+ancho] = 1\n",
    "    return elem\n",
    "        "
   ]
  },
  {
   "cell_type": "code",
   "execution_count": 31,
   "metadata": {
    "collapsed": false
   },
   "outputs": [
    {
     "ename": "SyntaxError",
     "evalue": "invalid syntax (<ipython-input-31-a33d0bb71128>, line 1)",
     "output_type": "error",
     "traceback": [
      "\u001b[0;36m  File \u001b[0;32m\"<ipython-input-31-a33d0bb71128>\"\u001b[0;36m, line \u001b[0;32m1\u001b[0m\n\u001b[0;31m    rombo((3,3)) ROMBO NO ANDA!\u001b[0m\n\u001b[0m                     ^\u001b[0m\n\u001b[0;31mSyntaxError\u001b[0m\u001b[0;31m:\u001b[0m invalid syntax\n"
     ]
    }
   ],
   "source": [
    "# rombo((3,3)) ROMBO NO ANDA!"
   ]
  },
  {
   "cell_type": "code",
   "execution_count": 80,
   "metadata": {
    "collapsed": true
   },
   "outputs": [],
   "source": [
    "import itertools\n",
    "\n",
    "def dilatar(v):\n",
    "#     print(v)\n",
    "    f = v.flatten()\n",
    "    f[int(len(f)/2)] = 0\n",
    "    return max(f)\n",
    "    \n",
    "def erosionar(v):\n",
    "    f = v.flatten()\n",
    "    f[int(len(f)/2)] = 255\n",
    "    return min(f)\n",
    "\n",
    "def median(v):\n",
    "    f = v.flatten()\n",
    "    f.sort()\n",
    "    out = f[int(len(f)/2)]\n",
    "    return out\n",
    "\n",
    "# def filtro(im, r=3, operar=median):\n",
    "# def filtro(im, r=3, operar=median):\n",
    "#     temp = get_temp(im, r)\n",
    "#     final = np.zeros_like(im)\n",
    "#     for i, j in itertools.product(range(im.shape[0]), range(im.shape[1])):\n",
    "#         vecinos = temp[i: i+(2*r), j+1: j+(2*r)]\n",
    "#         final[i, j] = operar(vecinos)\n",
    "#     return final\n",
    "\n",
    "def apertura(im, r=3, er=1, dil=1):\n",
    "    v = im.copy()\n",
    "    for i in range(max(1, er)):\n",
    "        v = filtro(v, r, erosionar)\n",
    "    for i in range(dil):\n",
    "        v = filtro(v, r, dilatar)\n",
    "    return v\n",
    "\n",
    "def cierre(im, r=3, dil=1, er=1):\n",
    "    v = im.copy()\n",
    "    for i in range(max(1, dil)):\n",
    "        v = filtro(v, r, dilatar)\n",
    "    for i in range(er):\n",
    "        v = filtro(v, r, erosionar)\n",
    "    return v"
   ]
  },
  {
   "cell_type": "code",
   "execution_count": 81,
   "metadata": {
    "collapsed": false
   },
   "outputs": [],
   "source": [
    "def filtro(img, operar=erosionar, elem=cruz, t_ventana=(3, 3), ancho=1):\n",
    "    # elem debe ser dos arreglos con los índices que forman el elemento estructurante\n",
    "    new_shape = ( img.shape[0] - (t_ventana[0] - ancho) ), ( img.shape[1] - (t_ventana[1] - ancho) )\n",
    "    print(new_shape)\n",
    "    new_img = np.zeros(new_shape)\n",
    "    for i, j in itertools.product( range( new_shape[0] ), range( new_shape[1] ) ):\n",
    "        x, y = i, j\n",
    "        ventana = img[ x: ( x+t_ventana[0] ), y: ( y+t_ventana[1] ) ]\n",
    "#         print(ventana)\n",
    "        vecinos = elem(ventana, ancho)\n",
    "        new_img[i, j] = operar(vecinos)\n",
    "    return new_img"
   ]
  },
  {
   "cell_type": "code",
   "execution_count": 62,
   "metadata": {
    "collapsed": false
   },
   "outputs": [],
   "source": [
    "img = np.random.rand(10, 10)\n",
    "img[img < .5] = 0\n",
    "img[img > .5] = 1"
   ]
  },
  {
   "cell_type": "code",
   "execution_count": 83,
   "metadata": {
    "collapsed": false,
    "scrolled": false
   },
   "outputs": [
    {
     "name": "stdout",
     "output_type": "stream",
     "text": [
      "(8, 8)\n"
     ]
    },
    {
     "data": {
      "image/png": "[encoded data removed]",
      "text/plain": [
       "<matplotlib.figure.Figure at 0x7fb437f8ec18>"
      ]
     },
     "metadata": {},
     "output_type": "display_data"
    }
   ],
   "source": [
    "new_img = filtro(img, elem=cruz, ancho=1, operar=dilatar)\n",
    "\n",
    "fig, ax = plt.subplots(1, 2)\n",
    "ax[0].imshow(img, cmap=plt.cm.gray)\n",
    "ax[1].imshow(new_img, cmap=plt.cm.gray)\n",
    "plt.show()"
   ]
  },
  {
   "cell_type": "code",
   "execution_count": 51,
   "metadata": {
    "collapsed": false
   },
   "outputs": [],
   "source": [
    "# plt.figure(figsize=(15, 5))\n",
    "# a = np.random.rand(100)\n",
    "# ind = [x for x in range(len(a))]\n",
    "# plt.plot(ind, a)\n",
    "# plt.show()"
   ]
  }
 ],
 "metadata": {
  "kernelspec": {
   "display_name": "Python 3",
   "language": "python",
   "name": "python3"
  },
  "language_info": {
   "codemirror_mode": {
    "name": "ipython",
    "version": 3
   },
   "file_extension": ".py",
   "mimetype": "text/x-python",
   "name": "python",
   "nbconvert_exporter": "python",
   "pygments_lexer": "ipython3",
   "version": "3.6.2"
  }
 },
 "nbformat": 4,
 "nbformat_minor": 2
}
