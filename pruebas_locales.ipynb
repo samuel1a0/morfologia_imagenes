{
 "cells": [
  {
   "cell_type": "code",
   "execution_count": 1,
   "metadata": {
    "collapsed": true
   },
   "outputs": [],
   "source": [
    "import numpy as np\n",
    "import cv2\n",
    "import matplotlib.pyplot as plt\n",
    "from matplotlib import cm"
   ]
  },
  {
   "cell_type": "code",
   "execution_count": 31,
   "metadata": {
    "collapsed": false
   },
   "outputs": [],
   "source": [
    "def r_indices(shape):\n",
    "    indices = []\n",
    "    offset = shape[1]//2\n",
    "    for i in range(shape[0]//2):\n",
    "        idx = np.array( [ x for x in range(i+1) ] ) +(offset-i)\n",
    "        indices.append(idx)\n",
    "    print(indices)\n",
    "        \n",
    "def cubo(img, ancho=0): \n",
    "    x, y = img.shape[0]//2, img.shape[1]//2\n",
    "    return np.delete(img.flatten(), img[x, y])\n",
    "\n",
    "def c_indices(shape=3, val=1):\n",
    "    valores = np.array( [(x*2)+1 for x in range( shape ) if (x*2)+1<shape ] )\n",
    "#     print(valores)\n",
    "    if shape%2 == 0:\n",
    "        valores = (valores[1:])-1\n",
    "    if val not in valores:\n",
    "        idx = np.abs(valores-val).argmin()\n",
    "        val = valores[ idx ]\n",
    "    offset = (shape-val)//2\n",
    "#     print(val, offset)\n",
    "    indices = np.array( range( val ) )+offset\n",
    "    return indices\n",
    "    \n",
    "    \n",
    "# def cruz(shape=(3, 3), ancho=1):\n",
    "def cruz(valores, ancho=1):\n",
    "        ind_i = c_indices(valores.shape[0], ancho)\n",
    "        ind_j = c_indices(valores.shape[1], ancho)\n",
    "        \n",
    "        elem_finales = []\n",
    "        elem_finales.extend( valores[ind_i,:].flatten())\n",
    "        elem_finales.extend(valores[:,ind_j].flatten())\n",
    "        x, y = valores.shape[0]//2, valores.shape[1]//2\n",
    "        elem_finales = np.delete(elem_finales, valores[x, y])\n",
    "        return np.array(elem_finales)\n",
    "\n",
    "def rombo(img):\n",
    "    elem = np.zeros(img.shape)\n",
    "    j = shape[0]//2\n",
    "    print(j)\n",
    "    for i in range(shape[0]//2):\n",
    "        elem[i, j-i:j+i] = 1\n",
    "        elem[-i, j-i:j+i] = 1\n",
    "    return elem\n",
    "\n",
    "def barra(img, ancho=1, orientation=\"h\"):\n",
    "    elem = np.zeros(img.shape)\n",
    "    if orientation==\"h\":\n",
    "        i = shape[0]//2\n",
    "        \n",
    "        elem[i:(i+ancho), :] = 1\n",
    "        return elem\n",
    "    i = img.shape[1]//2\n",
    "    elem[:, i:i+ancho] = 1\n",
    "    return elem\n",
    "        "
   ]
  },
  {
   "cell_type": "code",
   "execution_count": 3,
   "metadata": {
    "collapsed": false
   },
   "outputs": [],
   "source": [
    "# rombo((3,3)) ROMBO NO ANDA!"
   ]
  },
  {
   "cell_type": "code",
   "execution_count": 25,
   "metadata": {
    "collapsed": true
   },
   "outputs": [],
   "source": [
    "import itertools\n",
    "\n",
    "def binarizar_grayscale(img, umbral=128):\n",
    "    img[img < umbral] = 0\n",
    "    img[img > umbral] = 1\n",
    "    return img\n",
    "\n",
    "def dilatar(v):\n",
    "#     print(v)\n",
    "    f = v.flatten()\n",
    "#     f[int(len(f)/2)] = 0\n",
    "    return max(f)\n",
    "    \n",
    "def erosionar(v):\n",
    "    f = v.flatten()\n",
    "#     f[int(len(f)/2)] = 255\n",
    "    return min(f)\n",
    "\n",
    "def median(v):\n",
    "    f = v.flatten()\n",
    "    f.sort()\n",
    "    out = f[int(len(f)/2)]\n",
    "    return out\n",
    "\n",
    "def apertura(img, elem=cubo, t_ventana=(3,3), ancho=1):\n",
    "    v = im.copy()\n",
    "    v = filtro(v, erosionar, elem, t_ventana, ancho)\n",
    "    v = filtro(v, dilatar, elem, t_ventana, ancho)\n",
    "    return v\n",
    "\n",
    "def cierre(img, elem=cubo, t_ventana=(3,3), ancho=1):\n",
    "    v = im.copy()\n",
    "    v = filtro(v, dilatar, elem, t_ventana, ancho)\n",
    "    v = filtro(v, erosionar, elem, t_ventana, ancho)\n",
    "    return v"
   ]
  },
  {
   "cell_type": "code",
   "execution_count": 5,
   "metadata": {
    "collapsed": false
   },
   "outputs": [],
   "source": [
    "def filtro(img, operar=erosionar, elem=cruz, t_ventana=(3, 3), ancho=1):\n",
    "    # El tamaño de ventana y el ancho deben ser acordes\n",
    "    # Los \"elem\" asumen que el punto de apoyo es siempre el centro del objeto para ventanas con cantidad de elementos impares\n",
    "    # y el entero inmediato superior al centro en caso de cantidad de elementos pares (coord t_ventana[0]//2, t_ventana[1]//2)\n",
    "    new_shape = ( img.shape[0] - (t_ventana[0] - ancho) ), ( img.shape[1] - (t_ventana[1] - ancho) )\n",
    "    print(new_shape)\n",
    "    new_img = np.zeros(new_shape)\n",
    "    for i, j in itertools.product( range( new_shape[0] ), range( new_shape[1] ) ):\n",
    "        x, y = i, j\n",
    "        ventana = img[ x: ( x+t_ventana[0] ), y: ( y+t_ventana[1] ) ]\n",
    "#         print(ventana)\n",
    "        vecinos = elem(ventana, ancho)\n",
    "        new_img[i, j] = operar(vecinos)\n",
    "    return new_img"
   ]
  },
  {
   "cell_type": "code",
   "execution_count": 44,
   "metadata": {
    "collapsed": false
   },
   "outputs": [],
   "source": [
    "img = cv2.imread(\"img_src/twitter.png\", 0)\n",
    "img = binarizar_grayscale(img)"
   ]
  },
  {
   "cell_type": "code",
   "execution_count": 45,
   "metadata": {
    "collapsed": false,
    "scrolled": false
   },
   "outputs": [
    {
     "name": "stdout",
     "output_type": "stream",
     "text": [
      "(22, 22)\n"
     ]
    },
    {
     "data": {
      "image/png": "[encoded data removed]",
      "text/plain": [
       "<matplotlib.figure.Figure at 0x7fcacda68c18>"
      ]
     },
     "metadata": {},
     "output_type": "display_data"
    }
   ],
   "source": [
    "new_img = filtro(img, elem=cubo, ancho=1, operar=erosionar)\n",
    "\n",
    "fig, ax = plt.subplots(1, 2)\n",
    "ax[0].imshow(img, cmap=plt.cm.gray)\n",
    "ax[1].imshow(new_img, cmap=plt.cm.gray)\n",
    "plt.show()"
   ]
  }
 ],
 "metadata": {
  "kernelspec": {
   "display_name": "Python 3",
   "language": "python",
   "name": "python3"
  },
  "language_info": {
   "codemirror_mode": {
    "name": "ipython",
    "version": 3
   },
   "file_extension": ".py",
   "mimetype": "text/x-python",
   "name": "python",
   "nbconvert_exporter": "python",
   "pygments_lexer": "ipython3",
   "version": "3.6.2"
  }
 },
 "nbformat": 4,
 "nbformat_minor": 2
}
